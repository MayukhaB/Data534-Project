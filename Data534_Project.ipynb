{
 "cells": [
  {
   "cell_type": "code",
   "execution_count": 19,
   "id": "86586138-8318-43ee-bf0a-67dcc919438b",
   "metadata": {},
   "outputs": [
    {
     "name": "stderr",
     "output_type": "stream",
     "text": [
      "── \u001b[1mAttaching packages\u001b[22m ─────────────────────────────────────── tidyverse 1.3.1 ──\n",
      "\n",
      "\u001b[32m✔\u001b[39m \u001b[34mggplot2\u001b[39m 3.3.5     \u001b[32m✔\u001b[39m \u001b[34mpurrr  \u001b[39m 0.3.4\n",
      "\u001b[32m✔\u001b[39m \u001b[34mtibble \u001b[39m 3.1.6     \u001b[32m✔\u001b[39m \u001b[34mdplyr  \u001b[39m 1.0.7\n",
      "\u001b[32m✔\u001b[39m \u001b[34mtidyr  \u001b[39m 1.1.4     \u001b[32m✔\u001b[39m \u001b[34mstringr\u001b[39m 1.4.0\n",
      "\u001b[32m✔\u001b[39m \u001b[34mreadr  \u001b[39m 2.0.1     \u001b[32m✔\u001b[39m \u001b[34mforcats\u001b[39m 0.5.1\n",
      "\n",
      "── \u001b[1mConflicts\u001b[22m ────────────────────────────────────────── tidyverse_conflicts() ──\n",
      "\u001b[31m✖\u001b[39m \u001b[34mdplyr\u001b[39m::\u001b[32mfilter()\u001b[39m  masks \u001b[34mstats\u001b[39m::filter()\n",
      "\u001b[31m✖\u001b[39m \u001b[34mpurrr\u001b[39m::\u001b[32mflatten()\u001b[39m masks \u001b[34mjsonlite\u001b[39m::flatten()\n",
      "\u001b[31m✖\u001b[39m \u001b[34mdplyr\u001b[39m::\u001b[32mlag()\u001b[39m     masks \u001b[34mstats\u001b[39m::lag()\n",
      "\n"
     ]
    }
   ],
   "source": [
    "library(httr)\n",
    "library(jsonlite)\n",
    "library(tidyverse)"
   ]
  },
  {
   "cell_type": "code",
   "execution_count": 9,
   "id": "d3126666-76d1-4749-b1c0-b8383751c994",
   "metadata": {},
   "outputs": [],
   "source": [
    "url=\"https://api.github.com/repos/numpy/numpy/stats/contributors\"\n",
    "res = GET(url)"
   ]
  },
  {
   "cell_type": "code",
   "execution_count": 10,
   "id": "d3f12aa4-9add-4a59-af6d-8d863160ed10",
   "metadata": {},
   "outputs": [],
   "source": [
    "data = fromJSON(rawToChar(res$content))"
   ]
  },
  {
   "cell_type": "code",
   "execution_count": 11,
   "id": "90f1c826-bdd9-46bd-82a8-55ec5a7abae2",
   "metadata": {},
   "outputs": [
    {
     "data": {
      "text/html": [
       "<style>\n",
       ".list-inline {list-style: none; margin:0; padding: 0}\n",
       ".list-inline>li {display: inline-block}\n",
       ".list-inline>li:not(:last-child)::after {content: \"\\00b7\"; padding: 0 .5ex}\n",
       "</style>\n",
       "<ol class=list-inline><li>'total'</li><li>'weeks'</li><li>'author'</li></ol>\n"
      ],
      "text/latex": [
       "\\begin{enumerate*}\n",
       "\\item 'total'\n",
       "\\item 'weeks'\n",
       "\\item 'author'\n",
       "\\end{enumerate*}\n"
      ],
      "text/markdown": [
       "1. 'total'\n",
       "2. 'weeks'\n",
       "3. 'author'\n",
       "\n",
       "\n"
      ],
      "text/plain": [
       "[1] \"total\"  \"weeks\"  \"author\""
      ]
     },
     "metadata": {},
     "output_type": "display_data"
    }
   ],
   "source": [
    "names(data)"
   ]
  },
  {
   "cell_type": "code",
   "execution_count": 12,
   "id": "53e0bef9-8821-4bbd-9bdc-0cad5f63a8e6",
   "metadata": {},
   "outputs": [
    {
     "name": "stdout",
     "output_type": "stream",
     "text": [
      " [1]   56  797   20   42   16   96   48   25  127  805   29   30   28  153   33\n",
      "[16]   15   17   18  971   24   19   18   57   58  134  168   28   25   20  217\n",
      "[31]   17   24   64   32   29  717   63   45   37   21  517   25   23 1094   50\n",
      "[46]   18   79  110  159 2095 1472   18   49   15   24   72  459   87  167   39\n",
      "[61]   16   34   20  132  127   46 1021   21   18  246  129  100   34   16  483\n",
      "[76]   81   17  179  574  134 2010   47   66  158   28   53   26   23   23   18\n",
      "[91]   24   49   22   58   21   37   16  229\n"
     ]
    }
   ],
   "source": [
    "print(data$total)"
   ]
  },
  {
   "cell_type": "code",
   "execution_count": 24,
   "id": "e89c727a-ec48-42d7-8e86-af730f4d1048",
   "metadata": {},
   "outputs": [],
   "source": [
    "author<-data$author\n",
    "index_data<-which(author$login=='mattip')"
   ]
  },
  {
   "cell_type": "code",
   "execution_count": 28,
   "id": "0900faaa-287b-4ded-8d10-8e841fbf7ac3",
   "metadata": {},
   "outputs": [
    {
     "data": {
      "text/html": [
       "797"
      ],
      "text/latex": [
       "797"
      ],
      "text/markdown": [
       "797"
      ],
      "text/plain": [
       "[1] 797"
      ]
     },
     "metadata": {},
     "output_type": "display_data"
    }
   ],
   "source": [
    "data$total[index_data]"
   ]
  },
  {
   "cell_type": "code",
   "execution_count": 30,
   "id": "45f9051b-1ac0-48cb-a2f3-99a908a9e11e",
   "metadata": {},
   "outputs": [
    {
     "data": {
      "text/html": [
       "<style>\n",
       ".list-inline {list-style: none; margin:0; padding: 0}\n",
       ".list-inline>li {display: inline-block}\n",
       ".list-inline>li:not(:last-child)::after {content: \"\\00b7\"; padding: 0 .5ex}\n",
       "</style>\n",
       "<ol class=list-inline><li>'w'</li><li>'a'</li><li>'d'</li><li>'c'</li></ol>\n"
      ],
      "text/latex": [
       "\\begin{enumerate*}\n",
       "\\item 'w'\n",
       "\\item 'a'\n",
       "\\item 'd'\n",
       "\\item 'c'\n",
       "\\end{enumerate*}\n"
      ],
      "text/markdown": [
       "1. 'w'\n",
       "2. 'a'\n",
       "3. 'd'\n",
       "4. 'c'\n",
       "\n",
       "\n"
      ],
      "text/plain": [
       "[1] \"w\" \"a\" \"d\" \"c\""
      ]
     },
     "metadata": {},
     "output_type": "display_data"
    }
   ],
   "source": [
    "data_weeks<-data$weeks\n",
    "current_user<-data_weeks[[index_data]]"
   ]
  },
  {
   "cell_type": "code",
   "execution_count": 32,
   "id": "4ed1f3d7-5aa8-4f44-ac14-068557b0de30",
   "metadata": {},
   "outputs": [],
   "source": [
    "library(anytime)\n",
    "current_user$w<-anydate(current_user$w)"
   ]
  },
  {
   "cell_type": "code",
   "execution_count": 33,
   "id": "e73529b4-3224-45f9-9438-7fbde60cc350",
   "metadata": {},
   "outputs": [],
   "source": [
    "adds_per_user <- function(current_user) {\n",
    "  df_adds<-current_user%>%group_by(w)%>%summarise(adds=sum(a))%>%arrange(desc(w))\n",
    "  return(df_adds)\n",
    "}"
   ]
  },
  {
   "cell_type": "code",
   "execution_count": 34,
   "id": "10dba673-0352-47e4-a94f-84b215b5d95f",
   "metadata": {},
   "outputs": [
    {
     "data": {
      "text/html": [
       "<table class=\"dataframe\">\n",
       "<caption>A tibble: 1053 × 2</caption>\n",
       "<thead>\n",
       "\t<tr><th scope=col>w</th><th scope=col>adds</th></tr>\n",
       "\t<tr><th scope=col>&lt;date&gt;</th><th scope=col>&lt;int&gt;</th></tr>\n",
       "</thead>\n",
       "<tbody>\n",
       "\t<tr><td>2022-02-12</td><td>  25</td></tr>\n",
       "\t<tr><td>2022-02-05</td><td>   1</td></tr>\n",
       "\t<tr><td>2022-01-29</td><td> 190</td></tr>\n",
       "\t<tr><td>2022-01-22</td><td>  91</td></tr>\n",
       "\t<tr><td>2022-01-15</td><td>   3</td></tr>\n",
       "\t<tr><td>2022-01-08</td><td>   0</td></tr>\n",
       "\t<tr><td>2022-01-01</td><td>   3</td></tr>\n",
       "\t<tr><td>2021-12-25</td><td>   0</td></tr>\n",
       "\t<tr><td>2021-12-18</td><td>   2</td></tr>\n",
       "\t<tr><td>2021-12-11</td><td>  57</td></tr>\n",
       "\t<tr><td>2021-12-04</td><td>   0</td></tr>\n",
       "\t<tr><td>2021-11-27</td><td>   8</td></tr>\n",
       "\t<tr><td>2021-11-20</td><td>   0</td></tr>\n",
       "\t<tr><td>2021-11-13</td><td>  92</td></tr>\n",
       "\t<tr><td>2021-11-06</td><td> 100</td></tr>\n",
       "\t<tr><td>2021-10-30</td><td> 536</td></tr>\n",
       "\t<tr><td>2021-10-23</td><td>1469</td></tr>\n",
       "\t<tr><td>2021-10-16</td><td>   0</td></tr>\n",
       "\t<tr><td>2021-10-09</td><td>   2</td></tr>\n",
       "\t<tr><td>2021-10-02</td><td>  16</td></tr>\n",
       "\t<tr><td>2021-09-25</td><td>  13</td></tr>\n",
       "\t<tr><td>2021-09-18</td><td>   0</td></tr>\n",
       "\t<tr><td>2021-09-11</td><td>   0</td></tr>\n",
       "\t<tr><td>2021-09-04</td><td>   0</td></tr>\n",
       "\t<tr><td>2021-08-28</td><td>   0</td></tr>\n",
       "\t<tr><td>2021-08-21</td><td>  26</td></tr>\n",
       "\t<tr><td>2021-08-14</td><td>   2</td></tr>\n",
       "\t<tr><td>2021-08-07</td><td>  14</td></tr>\n",
       "\t<tr><td>2021-07-31</td><td>   0</td></tr>\n",
       "\t<tr><td>2021-07-24</td><td>   0</td></tr>\n",
       "\t<tr><td>⋮</td><td>⋮</td></tr>\n",
       "\t<tr><td>2002-07-06</td><td>0</td></tr>\n",
       "\t<tr><td>2002-06-29</td><td>0</td></tr>\n",
       "\t<tr><td>2002-06-22</td><td>0</td></tr>\n",
       "\t<tr><td>2002-06-15</td><td>0</td></tr>\n",
       "\t<tr><td>2002-06-08</td><td>0</td></tr>\n",
       "\t<tr><td>2002-06-01</td><td>0</td></tr>\n",
       "\t<tr><td>2002-05-25</td><td>0</td></tr>\n",
       "\t<tr><td>2002-05-18</td><td>0</td></tr>\n",
       "\t<tr><td>2002-05-11</td><td>0</td></tr>\n",
       "\t<tr><td>2002-05-04</td><td>0</td></tr>\n",
       "\t<tr><td>2002-04-27</td><td>0</td></tr>\n",
       "\t<tr><td>2002-04-20</td><td>0</td></tr>\n",
       "\t<tr><td>2002-04-13</td><td>0</td></tr>\n",
       "\t<tr><td>2002-04-06</td><td>0</td></tr>\n",
       "\t<tr><td>2002-03-30</td><td>0</td></tr>\n",
       "\t<tr><td>2002-03-23</td><td>0</td></tr>\n",
       "\t<tr><td>2002-03-16</td><td>0</td></tr>\n",
       "\t<tr><td>2002-03-09</td><td>0</td></tr>\n",
       "\t<tr><td>2002-03-02</td><td>0</td></tr>\n",
       "\t<tr><td>2002-02-23</td><td>0</td></tr>\n",
       "\t<tr><td>2002-02-16</td><td>0</td></tr>\n",
       "\t<tr><td>2002-02-09</td><td>0</td></tr>\n",
       "\t<tr><td>2002-02-02</td><td>0</td></tr>\n",
       "\t<tr><td>2002-01-26</td><td>0</td></tr>\n",
       "\t<tr><td>2002-01-19</td><td>0</td></tr>\n",
       "\t<tr><td>2002-01-12</td><td>0</td></tr>\n",
       "\t<tr><td>2002-01-05</td><td>0</td></tr>\n",
       "\t<tr><td>2001-12-29</td><td>0</td></tr>\n",
       "\t<tr><td>2001-12-22</td><td>0</td></tr>\n",
       "\t<tr><td>2001-12-15</td><td>0</td></tr>\n",
       "</tbody>\n",
       "</table>\n"
      ],
      "text/latex": [
       "A tibble: 1053 × 2\n",
       "\\begin{tabular}{ll}\n",
       " w & adds\\\\\n",
       " <date> & <int>\\\\\n",
       "\\hline\n",
       "\t 2022-02-12 &   25\\\\\n",
       "\t 2022-02-05 &    1\\\\\n",
       "\t 2022-01-29 &  190\\\\\n",
       "\t 2022-01-22 &   91\\\\\n",
       "\t 2022-01-15 &    3\\\\\n",
       "\t 2022-01-08 &    0\\\\\n",
       "\t 2022-01-01 &    3\\\\\n",
       "\t 2021-12-25 &    0\\\\\n",
       "\t 2021-12-18 &    2\\\\\n",
       "\t 2021-12-11 &   57\\\\\n",
       "\t 2021-12-04 &    0\\\\\n",
       "\t 2021-11-27 &    8\\\\\n",
       "\t 2021-11-20 &    0\\\\\n",
       "\t 2021-11-13 &   92\\\\\n",
       "\t 2021-11-06 &  100\\\\\n",
       "\t 2021-10-30 &  536\\\\\n",
       "\t 2021-10-23 & 1469\\\\\n",
       "\t 2021-10-16 &    0\\\\\n",
       "\t 2021-10-09 &    2\\\\\n",
       "\t 2021-10-02 &   16\\\\\n",
       "\t 2021-09-25 &   13\\\\\n",
       "\t 2021-09-18 &    0\\\\\n",
       "\t 2021-09-11 &    0\\\\\n",
       "\t 2021-09-04 &    0\\\\\n",
       "\t 2021-08-28 &    0\\\\\n",
       "\t 2021-08-21 &   26\\\\\n",
       "\t 2021-08-14 &    2\\\\\n",
       "\t 2021-08-07 &   14\\\\\n",
       "\t 2021-07-31 &    0\\\\\n",
       "\t 2021-07-24 &    0\\\\\n",
       "\t ⋮ & ⋮\\\\\n",
       "\t 2002-07-06 & 0\\\\\n",
       "\t 2002-06-29 & 0\\\\\n",
       "\t 2002-06-22 & 0\\\\\n",
       "\t 2002-06-15 & 0\\\\\n",
       "\t 2002-06-08 & 0\\\\\n",
       "\t 2002-06-01 & 0\\\\\n",
       "\t 2002-05-25 & 0\\\\\n",
       "\t 2002-05-18 & 0\\\\\n",
       "\t 2002-05-11 & 0\\\\\n",
       "\t 2002-05-04 & 0\\\\\n",
       "\t 2002-04-27 & 0\\\\\n",
       "\t 2002-04-20 & 0\\\\\n",
       "\t 2002-04-13 & 0\\\\\n",
       "\t 2002-04-06 & 0\\\\\n",
       "\t 2002-03-30 & 0\\\\\n",
       "\t 2002-03-23 & 0\\\\\n",
       "\t 2002-03-16 & 0\\\\\n",
       "\t 2002-03-09 & 0\\\\\n",
       "\t 2002-03-02 & 0\\\\\n",
       "\t 2002-02-23 & 0\\\\\n",
       "\t 2002-02-16 & 0\\\\\n",
       "\t 2002-02-09 & 0\\\\\n",
       "\t 2002-02-02 & 0\\\\\n",
       "\t 2002-01-26 & 0\\\\\n",
       "\t 2002-01-19 & 0\\\\\n",
       "\t 2002-01-12 & 0\\\\\n",
       "\t 2002-01-05 & 0\\\\\n",
       "\t 2001-12-29 & 0\\\\\n",
       "\t 2001-12-22 & 0\\\\\n",
       "\t 2001-12-15 & 0\\\\\n",
       "\\end{tabular}\n"
      ],
      "text/markdown": [
       "\n",
       "A tibble: 1053 × 2\n",
       "\n",
       "| w &lt;date&gt; | adds &lt;int&gt; |\n",
       "|---|---|\n",
       "| 2022-02-12 |   25 |\n",
       "| 2022-02-05 |    1 |\n",
       "| 2022-01-29 |  190 |\n",
       "| 2022-01-22 |   91 |\n",
       "| 2022-01-15 |    3 |\n",
       "| 2022-01-08 |    0 |\n",
       "| 2022-01-01 |    3 |\n",
       "| 2021-12-25 |    0 |\n",
       "| 2021-12-18 |    2 |\n",
       "| 2021-12-11 |   57 |\n",
       "| 2021-12-04 |    0 |\n",
       "| 2021-11-27 |    8 |\n",
       "| 2021-11-20 |    0 |\n",
       "| 2021-11-13 |   92 |\n",
       "| 2021-11-06 |  100 |\n",
       "| 2021-10-30 |  536 |\n",
       "| 2021-10-23 | 1469 |\n",
       "| 2021-10-16 |    0 |\n",
       "| 2021-10-09 |    2 |\n",
       "| 2021-10-02 |   16 |\n",
       "| 2021-09-25 |   13 |\n",
       "| 2021-09-18 |    0 |\n",
       "| 2021-09-11 |    0 |\n",
       "| 2021-09-04 |    0 |\n",
       "| 2021-08-28 |    0 |\n",
       "| 2021-08-21 |   26 |\n",
       "| 2021-08-14 |    2 |\n",
       "| 2021-08-07 |   14 |\n",
       "| 2021-07-31 |    0 |\n",
       "| 2021-07-24 |    0 |\n",
       "| ⋮ | ⋮ |\n",
       "| 2002-07-06 | 0 |\n",
       "| 2002-06-29 | 0 |\n",
       "| 2002-06-22 | 0 |\n",
       "| 2002-06-15 | 0 |\n",
       "| 2002-06-08 | 0 |\n",
       "| 2002-06-01 | 0 |\n",
       "| 2002-05-25 | 0 |\n",
       "| 2002-05-18 | 0 |\n",
       "| 2002-05-11 | 0 |\n",
       "| 2002-05-04 | 0 |\n",
       "| 2002-04-27 | 0 |\n",
       "| 2002-04-20 | 0 |\n",
       "| 2002-04-13 | 0 |\n",
       "| 2002-04-06 | 0 |\n",
       "| 2002-03-30 | 0 |\n",
       "| 2002-03-23 | 0 |\n",
       "| 2002-03-16 | 0 |\n",
       "| 2002-03-09 | 0 |\n",
       "| 2002-03-02 | 0 |\n",
       "| 2002-02-23 | 0 |\n",
       "| 2002-02-16 | 0 |\n",
       "| 2002-02-09 | 0 |\n",
       "| 2002-02-02 | 0 |\n",
       "| 2002-01-26 | 0 |\n",
       "| 2002-01-19 | 0 |\n",
       "| 2002-01-12 | 0 |\n",
       "| 2002-01-05 | 0 |\n",
       "| 2001-12-29 | 0 |\n",
       "| 2001-12-22 | 0 |\n",
       "| 2001-12-15 | 0 |\n",
       "\n"
      ],
      "text/plain": [
       "     w          adds\n",
       "1    2022-02-12   25\n",
       "2    2022-02-05    1\n",
       "3    2022-01-29  190\n",
       "4    2022-01-22   91\n",
       "5    2022-01-15    3\n",
       "6    2022-01-08    0\n",
       "7    2022-01-01    3\n",
       "8    2021-12-25    0\n",
       "9    2021-12-18    2\n",
       "10   2021-12-11   57\n",
       "11   2021-12-04    0\n",
       "12   2021-11-27    8\n",
       "13   2021-11-20    0\n",
       "14   2021-11-13   92\n",
       "15   2021-11-06  100\n",
       "16   2021-10-30  536\n",
       "17   2021-10-23 1469\n",
       "18   2021-10-16    0\n",
       "19   2021-10-09    2\n",
       "20   2021-10-02   16\n",
       "21   2021-09-25   13\n",
       "22   2021-09-18    0\n",
       "23   2021-09-11    0\n",
       "24   2021-09-04    0\n",
       "25   2021-08-28    0\n",
       "26   2021-08-21   26\n",
       "27   2021-08-14    2\n",
       "28   2021-08-07   14\n",
       "29   2021-07-31    0\n",
       "30   2021-07-24    0\n",
       "⋮    ⋮          ⋮   \n",
       "1024 2002-07-06 0   \n",
       "1025 2002-06-29 0   \n",
       "1026 2002-06-22 0   \n",
       "1027 2002-06-15 0   \n",
       "1028 2002-06-08 0   \n",
       "1029 2002-06-01 0   \n",
       "1030 2002-05-25 0   \n",
       "1031 2002-05-18 0   \n",
       "1032 2002-05-11 0   \n",
       "1033 2002-05-04 0   \n",
       "1034 2002-04-27 0   \n",
       "1035 2002-04-20 0   \n",
       "1036 2002-04-13 0   \n",
       "1037 2002-04-06 0   \n",
       "1038 2002-03-30 0   \n",
       "1039 2002-03-23 0   \n",
       "1040 2002-03-16 0   \n",
       "1041 2002-03-09 0   \n",
       "1042 2002-03-02 0   \n",
       "1043 2002-02-23 0   \n",
       "1044 2002-02-16 0   \n",
       "1045 2002-02-09 0   \n",
       "1046 2002-02-02 0   \n",
       "1047 2002-01-26 0   \n",
       "1048 2002-01-19 0   \n",
       "1049 2002-01-12 0   \n",
       "1050 2002-01-05 0   \n",
       "1051 2001-12-29 0   \n",
       "1052 2001-12-22 0   \n",
       "1053 2001-12-15 0   "
      ]
     },
     "metadata": {},
     "output_type": "display_data"
    }
   ],
   "source": [
    "adds_per_user(current_user)"
   ]
  },
  {
   "cell_type": "code",
   "execution_count": null,
   "id": "48c08af2-8218-4d59-b0e5-a6a00ad32052",
   "metadata": {},
   "outputs": [],
   "source": []
  }
 ],
 "metadata": {
  "kernelspec": {
   "display_name": "R",
   "language": "R",
   "name": "ir"
  },
  "language_info": {
   "codemirror_mode": "r",
   "file_extension": ".r",
   "mimetype": "text/x-r-source",
   "name": "R",
   "pygments_lexer": "r",
   "version": "4.1.1"
  }
 },
 "nbformat": 4,
 "nbformat_minor": 5
}
